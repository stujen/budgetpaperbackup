{
 "cells": [
  {
   "cell_type": "code",
   "execution_count": 6,
   "metadata": {
    "collapsed": true
   },
   "outputs": [],
   "source": [
    "import pandas as pd\n",
    "import numpy as np\n",
    "import scipy as sp\n",
    "from matplotlib import pyplot as plt\n",
    "\n",
    "from UnFaIR import *"
   ]
  },
  {
   "cell_type": "code",
   "execution_count": null,
   "metadata": {
    "collapsed": true
   },
   "outputs": [],
   "source": []
  },
  {
   "cell_type": "code",
   "execution_count": 7,
   "metadata": {
    "collapsed": true
   },
   "outputs": [],
   "source": [
    "## Experimental thermal model fit based on AR5 TCR / ECS values and mean CMIP6 climate feedback parameters\n",
    "\n",
    "## Do I do some IAMC scenarios with GenIR tuned to different CMIP6 models now - to show only one model really necessary given it is sufficiently tunable?? ##\n",
    "\n",
    "JT_params = pd.read_csv('./J_Tsutsui_params/2019-09-20_1417/parms_cmip6_20190920.csv')\n",
    "\n",
    "JT_params = JT_params.loc[(JT_params.iloc[:,1] == 'tas')&((JT_params.iloc[:,2] == 'irm-2')|(JT_params.iloc[:,2] == 'irm-3'))]\n",
    "\n",
    "JT_UnFaIR_params = pd.DataFrame(columns=[1,2,3],index=['d','q'])\n",
    "\n",
    "JT_UnFaIR_params.index = JT_UnFaIR_params.index.rename('param_name')\n",
    "\n",
    "JT_UnFaIR_params.columns = JT_UnFaIR_params.columns.rename('Box')\n",
    "\n",
    "param_list = []\n",
    "\n",
    "for i in JT_params.index:\n",
    "\n",
    "    curr_params = JT_UnFaIR_params.copy()\n",
    "    \n",
    "    curr_params.loc['d'] = (JT_params.loc[i,'tau0':'tau2']).values\n",
    "    \n",
    "    curr_params.loc['q'] = (JT_params.loc[i,'a0':'a2'] / JT_params.loc[i,'lambda']).values\n",
    "    \n",
    "    param_list += [curr_params]\n",
    "    \n",
    "JT_UnFaIR_params = pd.concat(param_list, keys = JT_params.iloc[:,0]+'_'+JT_params.iloc[:,2], axis = 1)\n",
    "\n",
    "JT_UnFaIR_params.columns = JT_UnFaIR_params.columns.rename(['CMIP6-model_IR(n)','Box'])\n",
    "\n",
    "JT_UnFaIR_params = JT_UnFaIR_params.apply(pd.to_numeric)\n",
    "\n",
    "JT_UnFaIR_params.loc['d',([x for x in JT_UnFaIR_params.columns.levels[0] if 'irm-2' in x],3)] = 1.\n",
    "JT_UnFaIR_params.loc['q',([x for x in JT_UnFaIR_params.columns.levels[0] if 'irm-2' in x],3)] = 0\n"
   ]
  },
  {
   "cell_type": "code",
   "execution_count": 8,
   "metadata": {
    "collapsed": true
   },
   "outputs": [],
   "source": [
    "RCP_data = {}\n",
    "RCP_data['RF'] = {}\n",
    "RCP_data['C'] = {}\n",
    "RCP_data['E'] = {}\n",
    "\n",
    "for RCP in ['3PD','45','6','85']:\n",
    "    RCP_data['C'][RCP] = pd.read_csv('./RCP_data/RCP'+RCP+'_MIDYEAR_CONCENTRATIONS.csv',skiprows=37,index_col=0).loc[np.arange(1765,2151)]\n",
    "    RCP_data['RF'][RCP] = pd.read_csv('./RCP_data/RCP'+RCP+'_MIDYEAR_RADFORCING.csv',skiprows=58,index_col=0)\n",
    "    RCP_data['E'][RCP] = pd.read_csv('./RCP_data/RCP'+RCP+'_EMISSIONS.csv',skiprows=36,index_col=0).loc[:2150]\n",
    "\n"
   ]
  },
  {
   "cell_type": "code",
   "execution_count": 9,
   "metadata": {},
   "outputs": [
    {
     "name": "stdout",
     "output_type": "stream",
     "text": [
      "Integrating 4 scenarios, 1 gas cycle parameter sets, 44 thermal response parameter sets, over ['CO2', 'CH4', 'N2O'], between 1765.0 and 2500.0...\n"
     ]
    }
   ],
   "source": [
    "RCP_data\n",
    "\n",
    "RCP_forc = return_empty_forcing(start_year=1765,end_year=2500,scen_names=list(RCP_data['RF'].keys()))\n",
    "\n",
    "for RCP in RCP_data['RF'].keys():\n",
    "    RCP_forc.loc[:,(RCP,'forcing')] = RCP_data['RF'][RCP]['TOTAL_INCLVOLCANIC_RF']\n",
    "    \n",
    "empty_emms = return_empty_emissions(RCP_forc)\n",
    "\n",
    "RCP_runs = run_UnFaIR(emissions_in=empty_emms,forcing_in=RCP_forc,thermal_parameters=JT_UnFaIR_params)\n",
    "\n"
   ]
  },
  {
   "cell_type": "code",
   "execution_count": 18,
   "metadata": {
    "scrolled": false
   },
   "outputs": [
    {
     "data": {
      "image/png": "[encoded data removed]",
      "text/plain": [
       "<Figure size 432x288 with 1 Axes>"
      ]
     },
     "metadata": {
      "needs_background": "light"
     },
     "output_type": "display_data"
    }
   ],
   "source": [
    "colors = ['r','b','g','y']\n",
    "\n",
    "TCRs = JT_params.tcr\n",
    "TCRs.index = JT_params['Unnamed: 0']+'_'+JT_params['Unnamed: 2']\n",
    "\n",
    "ECSs = JT_params.ecs\n",
    "ECSs.index = JT_params['Unnamed: 0']+'_'+JT_params['Unnamed: 2']\n",
    "\n",
    "for i,RCP in enumerate(RCP_data['RF'].keys()):\n",
    "    plt.plot(TCRs,(RCP_runs['T'].loc[2040:2060].mean() - RCP_runs['T'].loc[1851:1871].mean()).loc[RCP,'default'],'o',c=colors[i])\n",
    "    plt.plot(ECSs,(RCP_runs['T'].loc[2040:2060].mean() - RCP_runs['T'].loc[1851:1871].mean()).loc[RCP,'default'],'x',c=colors[i])\n",
    "    \n",
    "\n",
    "RCP_runs['T'].to_csv('./RCP_temp_resp_CMIP6_tuned_junichi.csv')\n",
    "TCRs.to_csv('./TCRs_CMIP6_tuned_junichi.csv')\n",
    "ECSs.to_csv('./ECSs_CMIP6_tuned_junichi.csv')\n",
    "\n"
   ]
  },
  {
   "cell_type": "code",
   "execution_count": null,
   "metadata": {
    "collapsed": true
   },
   "outputs": [],
   "source": []
  }
 ],
 "metadata": {
  "kernelspec": {
   "display_name": "Python (python37)",
   "language": "python",
   "name": "python37"
  },
  "language_info": {
   "codemirror_mode": {
    "name": "ipython",
    "version": 3
   },
   "file_extension": ".py",
   "mimetype": "text/x-python",
   "name": "python",
   "nbconvert_exporter": "python",
   "pygments_lexer": "ipython3",
   "version": "3.7.3"
  }
 },
 "nbformat": 4,
 "nbformat_minor": 2
}
